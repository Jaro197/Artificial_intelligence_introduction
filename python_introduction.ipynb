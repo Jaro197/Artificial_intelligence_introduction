{
 "cells": [
  {
   "cell_type": "markdown",
   "metadata": {},
   "source": [
    "# Zad. 1\n",
    "\n",
    "Napisz program, który sprawdzi, czy podane przez użytkownika koła mają niepuste przecięcie. Użytkownik programu podaje współrzędne środka oraz promień każdego koła."
   ]
  },
  {
   "cell_type": "code",
   "execution_count": 4,
   "metadata": {},
   "outputs": [
    {
     "data": {
      "text/plain": [
       "False"
      ]
     },
     "execution_count": 4,
     "metadata": {},
     "output_type": "execute_result"
    }
   ],
   "source": [
    "import math\n",
    "def t(S1, S2):\n",
    "    return math.sqrt((S1[\"x\"] - S2[\"x\"]) ** 2 + (S1[\"y\"] - S2[\"y\"]) ** 2) <= S1[\"r\"] + S2[\"r\"]\n",
    "\n",
    "S1 = {\n",
    "    \"x\" : 1, \n",
    "    \"y\" : 1, \n",
    "    \"r\" : 1\n",
    "}\n",
    "S2 = {\n",
    "    \"x\" : 3, \n",
    "    \"y\" : 1, \n",
    "    \"r\" : 1/3}\n",
    "t(S1, S2)"
   ]
  },
  {
   "cell_type": "markdown",
   "metadata": {},
   "source": [
    "\n",
    "# Zad. 2\n",
    "Napisz program, który będzie wczytywał kolejne słowa i je wypisywał aż do wczytania słowa \"stop\" po którym program się zatrzyma.\n"
   ]
  },
  {
   "cell_type": "code",
   "execution_count": 5,
   "metadata": {},
   "outputs": [
    {
     "name": "stdout",
     "output_type": "stream",
     "text": [
      "a\n",
      "b\n",
      "c\n",
      "stop\n"
     ]
    }
   ],
   "source": [
    "while(True):\n",
    "    val = input()\n",
    "    if val == \"stop\":\n",
    "        break"
   ]
  },
  {
   "cell_type": "markdown",
   "metadata": {},
   "source": [
    "# Zad. 3\n",
    "\n",
    "Napisz program tworzący tablicę n na m elementową w kształcie tablicy szachowej. Np. dla\n",
    "<br />\n",
    "<tt>\n",
    "n = 5<br />\n",
    "m = 5\n",
    "</tt>\n",
    "\n",
    "otrzymujemy\n",
    "\n",
    "<br />\n",
    "<tt>\n",
    "10101<br />\n",
    "01010<br />\n",
    "10101<br />\n",
    "01010<br />\n",
    "10101<br />\n",
    "</tt>"
   ]
  },
  {
   "cell_type": "code",
   "execution_count": 45,
   "metadata": {},
   "outputs": [
    {
     "name": "stdout",
     "output_type": "stream",
     "text": [
      "10101\n",
      "01010\n",
      "10101\n",
      "01010\n",
      "10101\n"
     ]
    }
   ],
   "source": [
    "n = 5\n",
    "m = 5\n",
    "[print(*[1 if (i + j) % 2 == 0 else 0 for i in range(n)], sep=\"\") for j in range(m)];"
   ]
  },
  {
   "cell_type": "markdown",
   "metadata": {},
   "source": [
    "# Zad. 4\n",
    "\n",
    "Napisać program rysujący \"miarkę\" o zadanej długości. Należy prawidłowo obsłużyć liczby składające się z kilku cyfr, np.:\n",
    "\n",
    "$$|....|....|....|....|....|....|....|....|$$\n",
    "$$0 \\quad \\ 1 \\quad \\ 2 \\quad \\ 3 \\quad \\ 4 \\quad \\ 5 \\quad \\ 6 \\quad \\ 7 \\quad \\ 8$$"
   ]
  },
  {
   "cell_type": "code",
   "execution_count": 46,
   "metadata": {},
   "outputs": [
    {
     "name": "stdout",
     "output_type": "stream",
     "text": [
      "|....|....|....|....|....|....|....|....|....|....|....|\n",
      "0    1    2    3    4    5    6    7    8    9    10   11   "
     ]
    }
   ],
   "source": [
    "n = 11\n",
    "kreski = \"|....\" * n + \"|\"\n",
    "print(kreski)\n",
    "\n",
    "for i in range(n + 1):\n",
    "    print(i, end = \" \" * (5 - len(str(i))))"
   ]
  },
  {
   "cell_type": "markdown",
   "metadata": {},
   "source": [
    "# Zad. 5\n",
    "\n",
    "Napisz funkcje, która zwraca:\n",
    "\n",
    "* sumę,\n",
    "* różnicę,\n",
    "* iloczyn elementów listy.\n"
   ]
  },
  {
   "cell_type": "code",
   "execution_count": 47,
   "metadata": {},
   "outputs": [
    {
     "data": {
      "text/plain": [
       "(10, -8, 24)"
      ]
     },
     "execution_count": 47,
     "metadata": {},
     "output_type": "execute_result"
    }
   ],
   "source": [
    "from functools import reduce\n",
    "l = [1,2,3,4]\n",
    "def foo(l):\n",
    "    return (sum(l), reduce((lambda x, y: x - y), l), reduce((lambda x, y: x * y), l))\n",
    "\n",
    "foo(l)"
   ]
  },
  {
   "cell_type": "markdown",
   "metadata": {},
   "source": [
    "# Zad. 6\n",
    "\n",
    "Napisać program zamieniający napis na napis „rozstrzelony”, czyli wstawiający spacje przed napisem, pomiędzy literami i po napisie. Przykład: **'Python' → ' P y t h o n '**. "
   ]
  },
  {
   "cell_type": "code",
   "execution_count": 48,
   "metadata": {},
   "outputs": [
    {
     "data": {
      "text/plain": [
       "' P y t h o n '"
      ]
     },
     "execution_count": 48,
     "metadata": {},
     "output_type": "execute_result"
    }
   ],
   "source": [
    "word = \"Python\"\n",
    "\" \" + \"\".join(map(lambda x: x + \" \", word))"
   ]
  },
  {
   "cell_type": "markdown",
   "metadata": {},
   "source": [
    "# Zad. 7\n",
    "Napisz funkcję **reverse(napis)**, która z napisu będącego jej argumentem tworzy odwrócony napis. Przykładowo, wywołanie reverse(\"hello\") powinno zwrócić napis \"olleh\". "
   ]
  },
  {
   "cell_type": "code",
   "execution_count": 49,
   "metadata": {},
   "outputs": [
    {
     "name": "stdout",
     "output_type": "stream",
     "text": [
      "olleh\n"
     ]
    }
   ],
   "source": [
    "word = \"hello\"\n",
    "print(word[::-1])"
   ]
  },
  {
   "cell_type": "markdown",
   "metadata": {},
   "source": [
    "\n",
    "# Zad. 8\n",
    "\n",
    "Wyestymować wartość liczby $\\pi$ metodą Monte Carlo.\n",
    "\n",
    "Pole kwadratu to $4r^2$, a pole koła wynosi $\\pi r^2$. W takim razie stosunek:\n",
    "$$\n",
    "\\frac{P_{kola}}{P_{kwadratu}} = \\frac{\\pi r^2}{4 r^2} = \\frac{\\pi}{4}.\n",
    "$$\n",
    "W konsekwencji: \n",
    "$$\n",
    "\\pi = 4 \\frac{P_{kola}}{P_{kwadratu}}.\n",
    "$$\n",
    "\n",
    "Jeżeli będziemy losować punkty o współrzędnych od $-2r$ do $2r$, to stosunek liczby punktów zawierających się w kole o środku w punkcie $(0,0)$ i promieniu $r$ do wszystkich wylosowanych punktów, będzie dążył w nieskończoności (z pewnym prawdopodobieństwem) do stosunku tego pola koła do koła kwadratu o boku $2r$.\n",
    "\n",
    "Cała metoda sprowadza się więc do tego, by losować punkty i sprawdzać, czy mieszczą się w kole. "
   ]
  },
  {
   "cell_type": "code",
   "execution_count": 54,
   "metadata": {},
   "outputs": [
    {
     "data": {
      "image/png": "[encoded data removed]",
      "text/plain": [
       "<Figure size 576x576 with 1 Axes>"
      ]
     },
     "metadata": {
      "needs_background": "light"
     },
     "output_type": "display_data"
    },
    {
     "data": {
      "text/plain": [
       "3.204"
      ]
     },
     "execution_count": 54,
     "metadata": {},
     "output_type": "execute_result"
    }
   ],
   "source": [
    "import matplotlib.pyplot as plt\n",
    "import numpy as np\n",
    "\n",
    "r = 3\n",
    "n = 1000\n",
    "\n",
    "x = np.random.uniform(-r, r, size=n)\n",
    "y = np.random.uniform(-r, r, size=n)\n",
    "\n",
    "def is_inside(x, y): \n",
    "    return True if (x ** 2 + y ** 2 <= r ** 2) else False;\n",
    "\n",
    "x_in = [x for (x,y) in zip(x,y) if is_inside(x,y)]\n",
    "y_in = [y for (x,y) in zip(x,y) if is_inside(x,y)]\n",
    "\n",
    "\n",
    "def create_shapes():\n",
    "    circle = plt.Circle((0,0), radius = r, fill=False)\n",
    "    rectangle = plt.Rectangle((-r,-r), 2*r, 2*r, fill=False)\n",
    "    return [circle, rectangle]\n",
    "\n",
    "def show_shape(patch):\n",
    "    plt.figure(figsize=(8,8))\n",
    "    ax=plt.gca()\n",
    "    ax.add_patch(patch[0])\n",
    "    ax.add_patch(patch[1])\n",
    "    ax.scatter(x,y)\n",
    "    ax.scatter(x_in,y_in, c=\"r\")\n",
    "    plt.show()\n",
    "    \n",
    "c = create_shapes()\n",
    "show_shape(c)\n",
    "\n",
    "len(x_in)/len(x)*4"
   ]
  },
  {
   "cell_type": "code",
   "execution_count": null,
   "metadata": {},
   "outputs": [],
   "source": []
  }
 ],
 "metadata": {
  "kernelspec": {
   "display_name": "Python 3.6.9 64-bit ('PodstawySztucznejInteligencji': pipenv)",
   "language": "python",
   "name": "python36964bitpodstawysztucznejinteligencjipipenvc28d3df0ccfa4812ade3738f9beea47b"
  },
  "language_info": {
   "codemirror_mode": {
    "name": "ipython",
    "version": 3
   },
   "file_extension": ".py",
   "mimetype": "text/x-python",
   "name": "python",
   "nbconvert_exporter": "python",
   "pygments_lexer": "ipython3",
   "version": "3.6.9"
  }
 },
 "nbformat": 4,
 "nbformat_minor": 4
}
