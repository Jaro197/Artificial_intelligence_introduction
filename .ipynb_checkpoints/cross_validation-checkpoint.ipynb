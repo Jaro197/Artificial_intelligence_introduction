{
 "cells": [
  {
   "cell_type": "code",
   "execution_count": 1,
   "metadata": {},
   "outputs": [],
   "source": [
    "import numpy as np\n",
    "import matplotlib.pyplot as plt\n",
    "from sklearn import datasets\n",
    "from sklearn.model_selection import cross_val_predict\n",
    "from sklearn import linear_model\n",
    "from sklearn import metrics"
   ]
  },
  {
   "cell_type": "markdown",
   "metadata": {},
   "source": [
    "Rozważmy zbiór Boston"
   ]
  },
  {
   "cell_type": "code",
   "execution_count": 2,
   "metadata": {},
   "outputs": [],
   "source": [
    "boston = datasets.load_boston()"
   ]
  },
  {
   "cell_type": "code",
   "execution_count": 3,
   "metadata": {},
   "outputs": [],
   "source": [
    "# get the data\n",
    "boston_X = boston.data\n",
    "boston_Y = boston.target"
   ]
  },
  {
   "cell_type": "markdown",
   "metadata": {},
   "source": [
    "Podzielmy zbiór na część testową i treningową ."
   ]
  },
  {
   "cell_type": "code",
   "execution_count": 4,
   "metadata": {},
   "outputs": [],
   "source": [
    "# Split the data into training/testing sets\n",
    "boston_X_train = boston_X[:-50]\n",
    "boston_X_test = boston_X[-50:]\n",
    " \n",
    "# Split the targets into training/testing sets\n",
    "boston_y_train = boston_Y[:-50]\n",
    "boston_y_test = boston_Y[-50:]"
   ]
  },
  {
   "cell_type": "code",
   "execution_count": 5,
   "metadata": {},
   "outputs": [],
   "source": [
    "X = boston_X_train\n",
    "y = boston_y_train"
   ]
  },
  {
   "cell_type": "markdown",
   "metadata": {},
   "source": [
    "# Zadanie\n",
    "Znajdż najleprzy model dzieląc na zbiór testowy i terningowy.\n"
   ]
  },
  {
   "cell_type": "code",
   "execution_count": 7,
   "metadata": {},
   "outputs": [],
   "source": [
    "from sklearn.model_selection import GridSearchCV\n",
    "from sklearn import linear_model\n",
    "from sklearn.preprocessing import PolynomialFeatures\n",
    "from sklearn.linear_model import Ridge\n",
    "from sklearn.linear_model import Lasso\n",
    "from sklearn.linear_model import ElasticNet\n",
    "from sklearn.pipeline import make_pipeline\n",
    "from sklearn import model_selection\n",
    "\n",
    "seed=123\n",
    "kfold = model_selection.KFold(n_splits=5, random_state=seed)"
   ]
  },
  {
   "cell_type": "code",
   "execution_count": 8,
   "metadata": {
    "scrolled": true
   },
   "outputs": [
    {
     "data": {
      "text/plain": [
       "{'elasticnet__alpha': 1, 'polynomialfeatures__degree': 1}"
      ]
     },
     "execution_count": 8,
     "metadata": {},
     "output_type": "execute_result"
    }
   ],
   "source": [
    "grid_1 = GridSearchCV(make_pipeline(PolynomialFeatures(degree=2), ElasticNet(alpha=1, random_state=seed)),\n",
    "                    param_grid={'polynomialfeatures__degree': [1, 2, 3, 4, 5],\n",
    "                    'elasticnet__alpha': [0.001, 0.01, 0.1, 1, 10]},\n",
    "                    cv=kfold,\n",
    "                    refit=True,\n",
    "                    n_jobs=-1)\n",
    "grid_1.fit(X, y)\n",
    "grid_1.best_params_"
   ]
  },
  {
   "cell_type": "code",
   "execution_count": 9,
   "metadata": {},
   "outputs": [],
   "source": [
    "grid_1.cv_results_['mean_test_score'].reshape(5, -1);"
   ]
  },
  {
   "cell_type": "code",
   "execution_count": 28,
   "metadata": {},
   "outputs": [
    {
     "data": {
      "image/png": "[encoded data removed]",
      "text/plain": [
       "<Figure size 432x288 with 2 Axes>"
      ]
     },
     "metadata": {
      "needs_background": "light"
     },
     "output_type": "display_data"
    }
   ],
   "source": [
    "grid_1_degree = ['1', '2', '3', '4', '5'] \n",
    "grid_1_alpha = ['0.001', '0.01', '0.1', '1', '10']\n",
    " \n",
    "figure = plt.figure() \n",
    "axes = figure.add_subplot(111) \n",
    "\n",
    "caxes = axes.matshow(grid_1.cv_results_['mean_test_score'].reshape(5, -1), vmin=0) \n",
    "figure.colorbar(caxes) \n",
    "  \n",
    "axes.set_xticklabels(['']+grid_1_alpha) \n",
    "axes.set_yticklabels(['']+grid_1_degree) \n",
    "\n",
    "plt.xlabel(\"elasticnet__alpha\")\n",
    "plt.ylabel(\"polynomialfeatures__degree\")\n",
    "  \n",
    "plt.show() "
   ]
  },
  {
   "cell_type": "code",
   "execution_count": 11,
   "metadata": {},
   "outputs": [
    {
     "data": {
      "text/plain": [
       "{'lasso__alpha': 1, 'polynomialfeatures__degree': 1}"
      ]
     },
     "execution_count": 11,
     "metadata": {},
     "output_type": "execute_result"
    }
   ],
   "source": [
    "grid_2 = GridSearchCV(make_pipeline(PolynomialFeatures(degree=2), Lasso(alpha=0.1)),\n",
    "                   param_grid={'polynomialfeatures__degree': [1, 2, 3, 4, 5],\n",
    "                               'lasso__alpha': [0.001, 0.01, 0.1, 1, 10]},\n",
    "                   cv=kfold,\n",
    "                   refit=True,\n",
    "                   n_jobs=-1)\n",
    "grid_2.fit(X, y)\n",
    "grid_2.best_params_"
   ]
  },
  {
   "cell_type": "code",
   "execution_count": 12,
   "metadata": {},
   "outputs": [],
   "source": [
    "grid_2.cv_results_['mean_test_score'].reshape(5, -1);"
   ]
  },
  {
   "cell_type": "code",
   "execution_count": 29,
   "metadata": {},
   "outputs": [
    {
     "data": {
      "image/png": "[encoded data removed]",
      "text/plain": [
       "<Figure size 432x288 with 2 Axes>"
      ]
     },
     "metadata": {
      "needs_background": "light"
     },
     "output_type": "display_data"
    }
   ],
   "source": [
    "grid_2_degree = ['1', '2', '3', '4', '5'] \n",
    "grid_2_alpha = ['0.001', '0.01', '0.1', '1', '10']\n",
    " \n",
    "figure = plt.figure() \n",
    "axes = figure.add_subplot(111) \n",
    "\n",
    "caxes = axes.matshow(grid_2.cv_results_['mean_test_score'].reshape(5, -1), vmin=0) \n",
    "figure.colorbar(caxes) \n",
    "  \n",
    "axes.set_xticklabels(['']+grid_2_alpha) \n",
    "axes.set_yticklabels(['']+grid_2_degree) \n",
    "\n",
    "plt.xlabel(\"lasso__alpha\")\n",
    "plt.ylabel(\"polynomialfeatures__degree\")\n",
    "  \n",
    "plt.show() "
   ]
  },
  {
   "cell_type": "code",
   "execution_count": 14,
   "metadata": {},
   "outputs": [
    {
     "data": {
      "text/plain": [
       "{'polynomialfeatures__degree': 1, 'ridge__alpha': 100}"
      ]
     },
     "execution_count": 14,
     "metadata": {},
     "output_type": "execute_result"
    }
   ],
   "source": [
    "grid_3 = GridSearchCV(make_pipeline(PolynomialFeatures(degree=2), Ridge(alpha=0.1)),\n",
    "                   param_grid={'polynomialfeatures__degree': [1, 2, 3, 4, 5, 6, 7],\n",
    "                               'ridge__alpha': [0.001, 0.01, 0.1, 1, 10, 100, 1000]},\n",
    "                   cv=kfold,\n",
    "                   refit=True,\n",
    "                   n_jobs=-1)\n",
    "grid_3.fit(X, y)\n",
    "grid_3.best_params_"
   ]
  },
  {
   "cell_type": "code",
   "execution_count": 15,
   "metadata": {},
   "outputs": [],
   "source": [
    "grid_3.cv_results_['mean_test_score'].reshape(7, -1);"
   ]
  },
  {
   "cell_type": "code",
   "execution_count": 30,
   "metadata": {},
   "outputs": [
    {
     "data": {
      "image/png": "[encoded data removed]",
      "text/plain": [
       "<Figure size 432x288 with 2 Axes>"
      ]
     },
     "metadata": {
      "needs_background": "light"
     },
     "output_type": "display_data"
    }
   ],
   "source": [
    "grid_3_degree = ['1', '2', '3', '4', '5', '6', '7'] \n",
    "grid_3_alpha = ['0.001', '0.01', '0.1', '1', '10', '100', '1000']\n",
    " \n",
    "figure = plt.figure() \n",
    "axes = figure.add_subplot(111) \n",
    "\n",
    "caxes = axes.matshow(grid_3.cv_results_['mean_test_score'].reshape(7, -1), vmin=0) \n",
    "figure.colorbar(caxes) \n",
    "  \n",
    "axes.set_xticklabels(['']+grid_3_alpha) \n",
    "axes.set_yticklabels(['']+grid_3_degree) \n",
    "\n",
    "plt.xlabel(\"ridge__alpha\")\n",
    "plt.ylabel(\"polynomialfeatures__degree\")\n",
    "  \n",
    "plt.show() "
   ]
  },
  {
   "cell_type": "code",
   "execution_count": 17,
   "metadata": {},
   "outputs": [
    {
     "data": {
      "text/plain": [
       "{'polynomialfeatures__degree': 1}"
      ]
     },
     "execution_count": 17,
     "metadata": {},
     "output_type": "execute_result"
    }
   ],
   "source": [
    "grid_4 = GridSearchCV(make_pipeline(PolynomialFeatures(degree=2), linear_model.LinearRegression()),\n",
    "                    param_grid={'polynomialfeatures__degree': [1, 2, 3, 4, 5, 6, 7]},\n",
    "                    cv=kfold,\n",
    "                    refit=True,\n",
    "                    n_jobs=-1)\n",
    "grid_4.fit(X, y)\n",
    "grid_4.best_params_"
   ]
  },
  {
   "cell_type": "code",
   "execution_count": 46,
   "metadata": {},
   "outputs": [],
   "source": [
    "tmp = np.diag(grid_4.cv_results_['mean_test_score'])"
   ]
  },
  {
   "cell_type": "code",
   "execution_count": 47,
   "metadata": {},
   "outputs": [
    {
     "data": {
      "text/plain": [
       "array([[-2.00891958e-01, -1.67797589e+07, -1.67797589e+07,\n",
       "        -1.67797589e+07, -1.67797589e+07, -1.67797589e+07,\n",
       "        -1.67797589e+07],\n",
       "       [-1.67797589e+07, -1.66208715e+02, -1.67797589e+07,\n",
       "        -1.67797589e+07, -1.67797589e+07, -1.67797589e+07,\n",
       "        -1.67797589e+07],\n",
       "       [-1.67797589e+07, -1.67797589e+07, -5.26245804e+06,\n",
       "        -1.67797589e+07, -1.67797589e+07, -1.67797589e+07,\n",
       "        -1.67797589e+07],\n",
       "       [-1.67797589e+07, -1.67797589e+07, -1.67797589e+07,\n",
       "        -8.28277836e+06, -1.67797589e+07, -1.67797589e+07,\n",
       "        -1.67797589e+07],\n",
       "       [-1.67797589e+07, -1.67797589e+07, -1.67797589e+07,\n",
       "        -1.67797589e+07, -3.87852255e+06, -1.67797589e+07,\n",
       "        -1.67797589e+07],\n",
       "       [-1.67797589e+07, -1.67797589e+07, -1.67797589e+07,\n",
       "        -1.67797589e+07, -1.67797589e+07, -9.04181517e+06,\n",
       "        -1.67797589e+07],\n",
       "       [-1.67797589e+07, -1.67797589e+07, -1.67797589e+07,\n",
       "        -1.67797589e+07, -1.67797589e+07, -1.67797589e+07,\n",
       "        -1.67797589e+07]])"
      ]
     },
     "execution_count": 47,
     "metadata": {},
     "output_type": "execute_result"
    }
   ],
   "source": [
    "tmp[tmp==0]=min(grid_4.cv_results_['mean_test_score'])\n",
    "tmp"
   ]
  },
  {
   "cell_type": "code",
   "execution_count": 49,
   "metadata": {},
   "outputs": [
    {
     "data": {
      "image/png": "[encoded data removed]",
      "text/plain": [
       "<Figure size 432x288 with 2 Axes>"
      ]
     },
     "metadata": {
      "needs_background": "light"
     },
     "output_type": "display_data"
    }
   ],
   "source": [
    "grid_4_degree = ['1', '2', '3', '4', '5', '6', '7']\n",
    " \n",
    "figure = plt.figure() \n",
    "axes = figure.add_subplot(111) \n",
    "\n",
    "caxes = axes.matshow(tmp, vmin=min(grid_4.cv_results_['mean_test_score'])) \n",
    "figure.colorbar(caxes) \n",
    "  \n",
    "axes.set_xticklabels(['']+grid_4_degree) \n",
    "axes.set_yticklabels(['']+grid_4_degree) \n",
    "\n",
    "plt.xlabel(\"polynomialfeatures__degree\")\n",
    "plt.ylabel(\"polynomialfeatures__degree\")\n",
    "  \n",
    "plt.show() "
   ]
  },
  {
   "cell_type": "code",
   "execution_count": 50,
   "metadata": {},
   "outputs": [
    {
     "name": "stdout",
     "output_type": "stream",
     "text": [
      "ElasticNet\n",
      "R^2: 0.26209780598926524\n",
      "Explained variance score: 0.2625203248283122\n",
      "Median absolute error: 2.0372732498523387\n",
      "Mean squared error: 13.918975295405088\n",
      "Mean absolute errors: 2.7860251774001714\n",
      "Lasso\n",
      "R^2: 0.2945970264429165\n",
      "Explained variance score: 0.29469272114054046\n",
      "Median absolute error: 1.9355672663158607\n",
      "Mean squared error: 13.305945749909911\n",
      "Mean absolute errors: 2.7136637564664916\n",
      "Ridge\n",
      "R^2: 0.2615522704535955\n",
      "Explained variance score: 0.2631176513729566\n",
      "Median absolute error: 2.117506309383142\n",
      "Mean squared error: 13.929265677660874\n",
      "Mean absolute errors: 2.825277648734166\n",
      "LR\n",
      "R^2: 0.41894349864428937\n",
      "Explained variance score: 0.42197364717960884\n",
      "Median absolute error: 2.089049047357058\n",
      "Mean squared error: 10.960410679422635\n",
      "Mean absolute errors: 2.5372525352164024\n"
     ]
    }
   ],
   "source": [
    "from sklearn import  metrics\n",
    "\n",
    "X_test=boston_X_test\n",
    "y_test=boston_y_test\n",
    "\n",
    "models = []\n",
    "models.append(('ElasticNet', grid_1.best_estimator_))\n",
    "models.append(('Lasso', grid_2.best_estimator_))\n",
    "models.append(('Ridge', grid_3.best_estimator_))\n",
    "models.append(('LR', grid_4.best_estimator_))\n",
    "\n",
    "r2 = []\n",
    "explained_variance_score = []\n",
    "median_absolute_error = []\n",
    "mean_squared_error = []\n",
    "mean_absolute_error = []\n",
    "for name, model in models:\n",
    "    print(name)\n",
    "    print(\"R^2: {}\".format(metrics.r2_score(y_test, model.predict(X_test)) ))\n",
    "    print(\"Explained variance score: {}\".format( metrics.explained_variance_score(y_test, model.predict(X_test)) ))\n",
    "    print(\"Median absolute error: {}\".format( metrics.median_absolute_error(y_test, model.predict(X_test)) ))\n",
    "    print(\"Mean squared error: {}\".format( metrics.mean_squared_error(y_test, model.predict(X_test)) ))\n",
    "    print(\"Mean absolute errors: {}\".format(metrics.mean_absolute_error(y_test, model.predict(X_test)) ))\n",
    "    r2.append(metrics.r2_score(y_test, model.predict(X_test)))\n",
    "    explained_variance_score.append(metrics.explained_variance_score(y_test, model.predict(X_test)))\n",
    "    median_absolute_error.append( metrics.median_absolute_error(y_test, model.predict(X_test)))\n",
    "    mean_squared_error.append(metrics.mean_squared_error(y_test, model.predict(X_test)))\n",
    "    mean_absolute_error.append(metrics.mean_absolute_error(y_test, model.predict(X_test)))"
   ]
  },
  {
   "cell_type": "code",
   "execution_count": 51,
   "metadata": {},
   "outputs": [
    {
     "data": {
      "text/html": [
       "<div>\n",
       "<style scoped>\n",
       "    .dataframe tbody tr th:only-of-type {\n",
       "        vertical-align: middle;\n",
       "    }\n",
       "\n",
       "    .dataframe tbody tr th {\n",
       "        vertical-align: top;\n",
       "    }\n",
       "\n",
       "    .dataframe thead th {\n",
       "        text-align: right;\n",
       "    }\n",
       "</style>\n",
       "<table border=\"1\" class=\"dataframe\">\n",
       "  <thead>\n",
       "    <tr style=\"text-align: right;\">\n",
       "      <th></th>\n",
       "      <th>Method</th>\n",
       "      <th>r2</th>\n",
       "      <th>explained_variance_score</th>\n",
       "      <th>median_absolute_error</th>\n",
       "      <th>mean_squared_error</th>\n",
       "      <th>mean_absolute_error</th>\n",
       "    </tr>\n",
       "  </thead>\n",
       "  <tbody>\n",
       "    <tr>\n",
       "      <th>0</th>\n",
       "      <td>ElasticNet</td>\n",
       "      <td>0.262098</td>\n",
       "      <td>0.262520</td>\n",
       "      <td>2.037273</td>\n",
       "      <td>13.918975</td>\n",
       "      <td>2.786025</td>\n",
       "    </tr>\n",
       "    <tr>\n",
       "      <th>1</th>\n",
       "      <td>Lasso</td>\n",
       "      <td>0.294597</td>\n",
       "      <td>0.294693</td>\n",
       "      <td>1.935567</td>\n",
       "      <td>13.305946</td>\n",
       "      <td>2.713664</td>\n",
       "    </tr>\n",
       "    <tr>\n",
       "      <th>2</th>\n",
       "      <td>Ridge</td>\n",
       "      <td>0.261552</td>\n",
       "      <td>0.263118</td>\n",
       "      <td>2.117506</td>\n",
       "      <td>13.929266</td>\n",
       "      <td>2.825278</td>\n",
       "    </tr>\n",
       "    <tr>\n",
       "      <th>3</th>\n",
       "      <td>LR</td>\n",
       "      <td>0.418943</td>\n",
       "      <td>0.421974</td>\n",
       "      <td>2.089049</td>\n",
       "      <td>10.960411</td>\n",
       "      <td>2.537253</td>\n",
       "    </tr>\n",
       "  </tbody>\n",
       "</table>\n",
       "</div>"
      ],
      "text/plain": [
       "       Method        r2  explained_variance_score  median_absolute_error  \\\n",
       "0  ElasticNet  0.262098                  0.262520               2.037273   \n",
       "1       Lasso  0.294597                  0.294693               1.935567   \n",
       "2       Ridge  0.261552                  0.263118               2.117506   \n",
       "3          LR  0.418943                  0.421974               2.089049   \n",
       "\n",
       "   mean_squared_error  mean_absolute_error  \n",
       "0           13.918975             2.786025  \n",
       "1           13.305946             2.713664  \n",
       "2           13.929266             2.825278  \n",
       "3           10.960411             2.537253  "
      ]
     },
     "execution_count": 51,
     "metadata": {},
     "output_type": "execute_result"
    }
   ],
   "source": [
    "import pandas as pd\n",
    "d = {'r2': r2, \n",
    "     'explained_variance_score': explained_variance_score, \n",
    "     'median_absolute_error': median_absolute_error,\n",
    "     'mean_squared_error' : mean_squared_error,\n",
    "     'mean_absolute_error' : mean_absolute_error,\n",
    "    }\n",
    "df = pd.DataFrame(data=d)\n",
    "df.insert(loc=0, column='Method', value=['ElasticNet', 'Lasso', 'Ridge', 'LR'])\n",
    "df"
   ]
  },
  {
   "cell_type": "code",
   "execution_count": null,
   "metadata": {},
   "outputs": [],
   "source": []
  }
 ],
 "metadata": {
  "kernelspec": {
   "display_name": "Python 3",
   "language": "python",
   "name": "python3"
  },
  "language_info": {
   "codemirror_mode": {
    "name": "ipython",
    "version": 3
   },
   "file_extension": ".py",
   "mimetype": "text/x-python",
   "name": "python",
   "nbconvert_exporter": "python",
   "pygments_lexer": "ipython3",
   "version": "3.8.2"
  }
 },
 "nbformat": 4,
 "nbformat_minor": 4
}
