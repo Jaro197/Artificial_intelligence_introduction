{
 "cells": [
  {
   "cell_type": "code",
   "execution_count": 18,
   "metadata": {},
   "outputs": [],
   "source": [
    "import numpy as np\n",
    "import scipy.stats as stats\n",
    "import matplotlib.pyplot as plt\n",
    "from sklearn.model_selection import train_test_split\n",
    "from sklearn.preprocessing import PolynomialFeatures\n",
    "from sklearn.pipeline import make_pipeline\n",
    "from sklearn import datasets, linear_model\n",
    "from sklearn import  metrics"
   ]
  },
  {
   "cell_type": "code",
   "execution_count": 10,
   "metadata": {},
   "outputs": [
    {
     "data": {
      "image/png": "[encoded data removed]",
      "text/plain": [
       "<Figure size 432x288 with 1 Axes>"
      ]
     },
     "metadata": {
      "needs_background": "light"
     },
     "output_type": "display_data"
    }
   ],
   "source": [
    "x = stats.uniform(0,3).rvs(100)\n",
    "f = lambda x: ((x*2-1)*(x**2-2)*(x-2)+3)\n",
    "y = f(x) + stats.norm(0,0.3).rvs(len(x))\n",
    "plt.plot(x, y, 'ok', ms=10);\n",
    "plt.show()"
   ]
  },
  {
   "cell_type": "markdown",
   "metadata": {},
   "source": [
    "# Przykład\n",
    "Podziel zbiór danych na część testową i treningową. \n",
    "Naucz model na części treningowej i ocen wyniki na części testowej."
   ]
  },
  {
   "cell_type": "code",
   "execution_count": 11,
   "metadata": {},
   "outputs": [
    {
     "name": "stdout",
     "output_type": "stream",
     "text": [
      "(60,) (60,)\n",
      "(40,) (40,)\n"
     ]
    }
   ],
   "source": [
    "X_train, X_test, y_train, y_test = train_test_split(x, y, test_size=0.4, random_state=0)\n",
    "\n",
    "print(X_train.shape, y_train.shape)\n",
    "print(X_test.shape, y_test.shape)"
   ]
  },
  {
   "cell_type": "code",
   "execution_count": 12,
   "metadata": {},
   "outputs": [],
   "source": [
    "X_train = np.vstack(X_train)\n",
    "X_test = np.vstack(X_test)"
   ]
  },
  {
   "cell_type": "code",
   "execution_count": 16,
   "metadata": {},
   "outputs": [
    {
     "data": {
      "text/plain": [
       "array([ 0.42292211,  0.76954563,  2.40275756, 17.09954199,  0.26231512,\n",
       "       24.42321736,  3.48629055,  6.95162175, 21.98120353,  3.34771129,\n",
       "        6.63632848, 16.00634325, 12.17320283, 21.2894756 ,  3.93771851,\n",
       "        6.27517905, 15.3775288 ,  1.69284916,  2.07022002,  6.62712555,\n",
       "        0.50561454,  0.29482532,  0.85251617, 22.47860189,  9.19499378,\n",
       "        2.50236645,  3.31965779,  0.63588593,  0.45032363,  5.8012278 ,\n",
       "        7.59910842,  0.75240603,  6.87189245,  3.8606742 ,  1.29013327,\n",
       "       17.99066574, 12.87577642,  4.02120904,  3.44760972,  3.60361716])"
      ]
     },
     "execution_count": 16,
     "metadata": {},
     "output_type": "execute_result"
    }
   ],
   "source": [
    "model2 = make_pipeline(PolynomialFeatures(2), linear_model.LinearRegression())\n",
    "model2.fit(X_train, y_train)\n",
    "model2.predict(X_test)"
   ]
  },
  {
   "cell_type": "code",
   "execution_count": 19,
   "metadata": {},
   "outputs": [
    {
     "name": "stdout",
     "output_type": "stream",
     "text": [
      "Explained variance score: 0.8002114486892029\n",
      "Median absolute error: 2.9084718833792422\n",
      "Mean squared error: 10.614829318939954\n",
      "Mean absolute errors: 2.8741881994025102\n"
     ]
    }
   ],
   "source": [
    "print(\"Explained variance score: {}\".format( metrics.explained_variance_score(y_test, model2.predict(X_test)) ))\n",
    "print(\"Median absolute error: {}\".format( metrics.median_absolute_error(y_test, model2.predict(X_test)) ))\n",
    "print(\"Mean squared error: {}\".format( metrics.mean_squared_error(y_test, model2.predict(X_test)) ))\n",
    "print(\"Mean absolute errors: {}\".format(metrics.mean_absolute_error(y_test, model2.predict(X_test)) ))"
   ]
  },
  {
   "cell_type": "markdown",
   "metadata": {},
   "source": [
    "# Zadanie\n",
    "Wylicz powyższe miary dla wszytkich modeli:\n",
    "\n",
    "- regrsji linowej\n",
    "- regrsji wielomianowej stopnia 2\n",
    "- regrsji wielomianowej stopnia 3\n",
    "- regrsji wielomianowej stopnia 4\n",
    "- regrsji wielomianowej stopnia 5\n",
    "- regrsji wielomianowej stopnia 25"
   ]
  },
  {
   "cell_type": "code",
   "execution_count": 20,
   "metadata": {},
   "outputs": [
    {
     "name": "stdout",
     "output_type": "stream",
     "text": [
      "\n",
      "degree_1\n",
      "Explained variance score: 0.4827363716727848\n",
      "Median absolute error: 3.3025670849541773\n",
      "Mean squared error: 27.149816439005047\n",
      "Mean absolute errors: 4.508312459257298\n",
      "\n",
      "degree_2\n",
      "Explained variance score: 0.8002114486892029\n",
      "Median absolute error: 2.9084718833792422\n",
      "Mean squared error: 10.614829318939954\n",
      "Mean absolute errors: 2.8741881994025102\n",
      "\n",
      "degree_3\n",
      "Explained variance score: 0.9859174901957314\n",
      "Median absolute error: 0.5031137142302138\n",
      "Mean squared error: 0.7305053406837471\n",
      "Mean absolute errors: 0.6193501327211581\n",
      "\n",
      "degree_4\n",
      "Explained variance score: 0.9980517253312337\n",
      "Median absolute error: 0.1546590803322565\n",
      "Mean squared error: 0.10249995713005995\n",
      "Mean absolute errors: 0.24605244166944754\n",
      "\n",
      "degree_5\n",
      "Explained variance score: 0.9980508858566064\n",
      "Median absolute error: 0.17603470688675937\n",
      "Mean squared error: 0.10290837458090976\n",
      "Mean absolute errors: 0.24996423387325278\n",
      "\n",
      "degree_25\n",
      "Explained variance score: 0.9971340895165342\n",
      "Median absolute error: 0.26288508979558567\n",
      "Mean squared error: 0.1507006571977228\n",
      "Mean absolute errors: 0.29706011322877435\n"
     ]
    }
   ],
   "source": [
    "for i in range(1, 6):\n",
    "    model2 = make_pipeline(PolynomialFeatures(i), linear_model.LinearRegression())\n",
    "    model2.fit(X_train, y_train)\n",
    "\n",
    "    print(f\"\\ndegree_{i}\")\n",
    "    print(\"Explained variance score: {}\".format( metrics.explained_variance_score(y_test, model2.predict(X_test)) ))\n",
    "    print(\"Median absolute error: {}\".format( metrics.median_absolute_error(y_test, model2.predict(X_test)) ))\n",
    "    print(\"Mean squared error: {}\".format( metrics.mean_squared_error(y_test, model2.predict(X_test)) ))\n",
    "    print(\"Mean absolute errors: {}\".format(metrics.mean_absolute_error(y_test, model2.predict(X_test)) ))\n",
    "    \n",
    "model2 = make_pipeline(PolynomialFeatures(25), linear_model.LinearRegression())\n",
    "model2.fit(X_train, y_train)\n",
    "\n",
    "print(\"\\ndegree_25\")\n",
    "print(\"Explained variance score: {}\".format( metrics.explained_variance_score(y_test, model2.predict(X_test)) ))\n",
    "print(\"Median absolute error: {}\".format( metrics.median_absolute_error(y_test, model2.predict(X_test)) ))\n",
    "print(\"Mean squared error: {}\".format( metrics.mean_squared_error(y_test, model2.predict(X_test)) ))\n",
    "print(\"Mean absolute errors: {}\".format(metrics.mean_absolute_error(y_test, model2.predict(X_test)) ))"
   ]
  },
  {
   "cell_type": "code",
   "execution_count": null,
   "metadata": {},
   "outputs": [],
   "source": []
  }
 ],
 "metadata": {
  "kernelspec": {
   "display_name": "Python 3",
   "language": "python",
   "name": "python3"
  },
  "language_info": {
   "codemirror_mode": {
    "name": "ipython",
    "version": 3
   },
   "file_extension": ".py",
   "mimetype": "text/x-python",
   "name": "python",
   "nbconvert_exporter": "python",
   "pygments_lexer": "ipython3",
   "version": "3.8.2"
  }
 },
 "nbformat": 4,
 "nbformat_minor": 4
}
